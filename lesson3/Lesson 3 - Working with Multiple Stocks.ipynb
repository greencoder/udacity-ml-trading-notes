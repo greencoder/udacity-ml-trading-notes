{
 "cells": [
  {
   "cell_type": "markdown",
   "metadata": {},
   "source": [
    "# Create an empty data frame"
   ]
  },
  {
   "cell_type": "code",
   "execution_count": 2,
   "metadata": {
    "collapsed": true
   },
   "outputs": [],
   "source": [
    "import pandas as pd"
   ]
  },
  {
   "cell_type": "code",
   "execution_count": 14,
   "metadata": {},
   "outputs": [
    {
     "name": "stdout",
     "output_type": "stream",
     "text": [
      "            Adj Close\n",
      "2010-01-22     119.61\n",
      "2010-01-25     120.20\n",
      "2010-01-26     119.85\n"
     ]
    }
   ],
   "source": [
    "def test_run():\n",
    "    start_date = '2010-01-22'\n",
    "    end_date = '2010-01-26'\n",
    "    dates = pd.date_range(start_date, end_date)\n",
    "    \n",
    "    # Create an empty dataframe\n",
    "    df1 = pd.DataFrame(index=dates)\n",
    "    \n",
    "    # Read IBM data into a dataframe. Make sure we specify the indes column\n",
    "    # since that's what we used above\n",
    "    df_ibm = pd.read_csv(\n",
    "        'data/IBM.csv', \n",
    "        index_col=\"Date\", \n",
    "        parse_dates=True,\n",
    "        usecols=['Date', 'Adj Close'],\n",
    "        na_values=['nan'], \n",
    "    )\n",
    "    \n",
    "    # Join the two dataframes\n",
    "    df1 = df1.join(df_ibm, how='inner')\n",
    "    \n",
    "    print df1\n",
    "    \n",
    "\n",
    "test_run()"
   ]
  },
  {
   "cell_type": "markdown",
   "metadata": {},
   "source": [
    "# Read in more stocks"
   ]
  },
  {
   "cell_type": "code",
   "execution_count": 15,
   "metadata": {},
   "outputs": [
    {
     "name": "stdout",
     "output_type": "stream",
     "text": [
      "               IBM    AAPL\n",
      "2010-01-22  119.61  196.90\n",
      "2010-01-23     NaN     NaN\n",
      "2010-01-24     NaN     NaN\n",
      "2010-01-25  120.20  202.20\n",
      "2010-01-26  119.85  205.06\n"
     ]
    }
   ],
   "source": [
    "start_date = '2010-01-22'\n",
    "end_date = '2010-01-26'\n",
    "dates = pd.date_range(start_date, end_date)\n",
    "    \n",
    "# Create an empty dataframe\n",
    "df1 = pd.DataFrame(index=dates)\n",
    "\n",
    "# Read in multiple symbols\n",
    "symbols = ['IBM', 'AAPL']\n",
    "\n",
    "for symbol in symbols:\n",
    "\n",
    "    df_temp = pd.read_csv(\n",
    "        'data/{}.csv'.format(symbol),\n",
    "        index_col=\"Date\", \n",
    "        parse_dates=True,\n",
    "        usecols=['Date', 'Adj Close'],\n",
    "        na_values=['nan'], \n",
    "    )\n",
    "    \n",
    "    # Rename to prevent clash\n",
    "    df_temp = df_temp.rename(columns={'Adj Close': symbol})\n",
    "    \n",
    "    # Join the two dataframes\n",
    "    df1 = df1.join(df_temp, how='left')\n",
    "\n",
    "print df1.head()"
   ]
  },
  {
   "cell_type": "markdown",
   "metadata": {},
   "source": [
    "# Utility functions for reading data"
   ]
  },
  {
   "cell_type": "code",
   "execution_count": 16,
   "metadata": {
    "collapsed": true
   },
   "outputs": [],
   "source": [
    "import os\n",
    "import pandas as pd"
   ]
  },
  {
   "cell_type": "code",
   "execution_count": 33,
   "metadata": {
    "collapsed": true
   },
   "outputs": [],
   "source": [
    "def symbol_to_path(symbol, base_dir=\"data\"):\n",
    "    \"\"\"Return CSV file path given ticker symbol.\"\"\"\n",
    "    return os.path.join(base_dir, \"{}.csv\".format(str(symbol)))\n",
    "\n",
    "def get_data(symbols, dates):\n",
    "    \"\"\"Read stock data (adjusted close) for given symbols from CSV files.\"\"\"\n",
    "    df = pd.DataFrame(index=dates)\n",
    "    \n",
    "    if 'SPY' not in symbols:  # add SPY for reference, if absent\n",
    "        symbols.insert(0, 'SPY')\n",
    "\n",
    "    for symbol in symbols:\n",
    "        \n",
    "        # Read in the data\n",
    "        df_temp = pd.read_csv(\n",
    "            symbol_to_path(symbol), \n",
    "            index_col=\"Date\", \n",
    "            parse_dates=True, \n",
    "            usecols=['Date', 'Adj Close'],\n",
    "            na_values=['nan'],\n",
    "        )\n",
    "    \n",
    "        # Rename to prevent clash\n",
    "        df_temp = df_temp.rename(columns={'Adj Close': symbol})\n",
    "        \n",
    "        # Join the dataframes\n",
    "        df = df.join(df_temp)\n",
    "        \n",
    "        # Drop any rows where SPY is NaN\n",
    "        df = df.dropna(subset=['SPY'])\n",
    "\n",
    "    return df"
   ]
  },
  {
   "cell_type": "code",
   "execution_count": 34,
   "metadata": {},
   "outputs": [
    {
     "name": "stdout",
     "output_type": "stream",
     "text": [
      "               SPY    GOOG     IBM     GLD\n",
      "2010-01-22  104.34  550.01  119.61  107.17\n",
      "2010-01-25  104.87  540.00  120.20  107.48\n",
      "2010-01-26  104.43  542.42  119.85  107.56\n"
     ]
    }
   ],
   "source": [
    "def test_run():\n",
    "\n",
    "    # Define a date range\n",
    "    dates = pd.date_range('2010-01-22', '2010-01-26')\n",
    "\n",
    "    # Choose stock symbols to read\n",
    "    symbols = ['GOOG', 'IBM', 'GLD']\n",
    "    \n",
    "    # Get stock data\n",
    "    df = get_data(symbols, dates)\n",
    "    print df\n",
    "\n",
    "test_run()"
   ]
  },
  {
   "cell_type": "markdown",
   "metadata": {},
   "source": [
    "# More Slicing"
   ]
  },
  {
   "cell_type": "code",
   "execution_count": 37,
   "metadata": {},
   "outputs": [
    {
     "name": "stdout",
     "output_type": "stream",
     "text": [
      "               SPY    GOOG     IBM     GLD\n",
      "2010-01-22  104.34  550.01  119.61  107.17\n",
      "2010-01-25  104.87  540.00  120.20  107.48\n",
      "2010-01-26  104.43  542.42  119.85  107.56\n",
      "2010-01-27  104.93  542.10  120.40  106.53\n",
      "2010-01-28  103.73  534.29  117.94  106.48\n"
     ]
    }
   ],
   "source": [
    "dates = pd.date_range('2010-01-22', '2010-12-31')\n",
    "symbols = ['GOOG', 'IBM', 'GLD']\n",
    "df = get_data(symbols, dates)\n",
    "print df.head()"
   ]
  },
  {
   "cell_type": "markdown",
   "metadata": {},
   "source": [
    "Slice by row:"
   ]
  },
  {
   "cell_type": "code",
   "execution_count": 39,
   "metadata": {},
   "outputs": [
    {
     "name": "stdout",
     "output_type": "stream",
     "text": [
      "               SPY    GOOG     IBM     GLD\n",
      "2010-01-22  104.34  550.01  119.61  107.17\n",
      "2010-01-25  104.87  540.00  120.20  107.48\n",
      "2010-01-26  104.43  542.42  119.85  107.56\n",
      "2010-01-27  104.93  542.10  120.40  106.53\n",
      "2010-01-28  103.73  534.29  117.94  106.48\n",
      "2010-01-29  102.60  529.94  116.65  105.96\n"
     ]
    }
   ],
   "source": [
    "print df.loc['2010-01-01': '2010-01-31']"
   ]
  },
  {
   "cell_type": "markdown",
   "metadata": {},
   "source": [
    "Slice by column:"
   ]
  },
  {
   "cell_type": "code",
   "execution_count": 40,
   "metadata": {},
   "outputs": [
    {
     "name": "stdout",
     "output_type": "stream",
     "text": [
      "2010-01-22    550.01\n",
      "2010-01-25    540.00\n",
      "2010-01-26    542.42\n",
      "2010-01-27    542.10\n",
      "2010-01-28    534.29\n",
      "Name: GOOG, dtype: float64\n"
     ]
    }
   ],
   "source": [
    "print df['GOOG'].head()"
   ]
  },
  {
   "cell_type": "code",
   "execution_count": 41,
   "metadata": {},
   "outputs": [
    {
     "name": "stdout",
     "output_type": "stream",
     "text": [
      "               IBM     GLD\n",
      "2010-01-22  119.61  107.17\n",
      "2010-01-25  120.20  107.48\n",
      "2010-01-26  119.85  107.56\n",
      "2010-01-27  120.40  106.53\n",
      "2010-01-28  117.94  106.48\n"
     ]
    }
   ],
   "source": [
    "print df[['IBM', 'GLD']].head()"
   ]
  },
  {
   "cell_type": "markdown",
   "metadata": {},
   "source": [
    "Slice by row and column:"
   ]
  },
  {
   "cell_type": "code",
   "execution_count": 43,
   "metadata": {},
   "outputs": [
    {
     "name": "stdout",
     "output_type": "stream",
     "text": [
      "               SPY     IBM\n",
      "2010-01-22  104.34  119.61\n",
      "2010-01-25  104.87  120.20\n",
      "2010-01-26  104.43  119.85\n",
      "2010-01-27  104.93  120.40\n",
      "2010-01-28  103.73  117.94\n"
     ]
    }
   ],
   "source": [
    "print df.loc['2010-01-01': '2010-01-31', ['SPY', 'IBM']].head()"
   ]
  },
  {
   "cell_type": "markdown",
   "metadata": {},
   "source": [
    "# Slice and plot two stocks"
   ]
  },
  {
   "cell_type": "code",
   "execution_count": 47,
   "metadata": {},
   "outputs": [],
   "source": [
    "import os\n",
    "import pandas as pd\n",
    "import matplotlib.pyplot as plt\n",
    "%matplotlib inline"
   ]
  },
  {
   "cell_type": "code",
   "execution_count": 48,
   "metadata": {
    "collapsed": true
   },
   "outputs": [],
   "source": [
    "def plot_selected(df, columns, start_index, end_index):\n",
    "    \"\"\"Plot the desired columns over index values in the given range.\"\"\"\n",
    "    df.loc[start_index: end_index, columns].plot()\n",
    "    plt.show()\n",
    "    \n",
    "def symbol_to_path(symbol, base_dir=\"data\"):\n",
    "    \"\"\"Return CSV file path given ticker symbol.\"\"\"\n",
    "    return os.path.join(base_dir, \"{}.csv\".format(str(symbol)))\n",
    "\n",
    "def get_data(symbols, dates):\n",
    "    \"\"\"Read stock data (adjusted close) for given symbols from CSV files.\"\"\"\n",
    "    df = pd.DataFrame(index=dates)\n",
    "    if 'SPY' not in symbols:  # add SPY for reference, if absent\n",
    "        symbols.insert(0, 'SPY')\n",
    "\n",
    "    for symbol in symbols:\n",
    "        df_temp = pd.read_csv(symbol_to_path(symbol), index_col='Date',\n",
    "                parse_dates=True, usecols=['Date', 'Adj Close'], na_values=['nan'])\n",
    "        df_temp = df_temp.rename(columns={'Adj Close': symbol})\n",
    "        df = df.join(df_temp)\n",
    "        if symbol == 'SPY':  # drop dates SPY did not trade\n",
    "            df = df.dropna(subset=[\"SPY\"])\n",
    "\n",
    "    return df\n",
    "\n",
    "def plot_data(df, title=\"Stock prices\"):\n",
    "    \"\"\"Plot stock prices with a custom title and meaningful axis labels.\"\"\"\n",
    "    ax = df.plot(title=title, fontsize=12)\n",
    "    ax.set_xlabel(\"Date\")\n",
    "    ax.set_ylabel(\"Price\")\n",
    "    plt.show()"
   ]
  },
  {
   "cell_type": "code",
   "execution_count": 49,
   "metadata": {},
   "outputs": [
    {
     "data": {
      "image/png": "[encoded data removed]",
      "text/plain": [
       "<matplotlib.figure.Figure at 0x1091423d0>"
      ]
     },
     "metadata": {},
     "output_type": "display_data"
    }
   ],
   "source": [
    "def test_run():\n",
    "    # Define a date range\n",
    "    dates = pd.date_range('2010-01-01', '2010-12-31')\n",
    "\n",
    "    # Choose stock symbols to read\n",
    "    symbols = ['GOOG', 'IBM', 'GLD']  # SPY will be added in get_data()\n",
    "    \n",
    "    # Get stock data\n",
    "    df = get_data(symbols, dates)\n",
    "\n",
    "    # Slice and plot\n",
    "    plot_selected(df, ['SPY', 'IBM'], '2010-03-01', '2010-04-01')\n",
    "\n",
    "test_run()"
   ]
  },
  {
   "cell_type": "markdown",
   "metadata": {},
   "source": [
    "# Normalizing"
   ]
  },
  {
   "cell_type": "code",
   "execution_count": 51,
   "metadata": {
    "collapsed": true
   },
   "outputs": [],
   "source": [
    "def normalize_data(df):\n",
    "    return df / df[0]"
   ]
  }
 ],
 "metadata": {
  "kernelspec": {
   "display_name": "Python 2",
   "language": "python",
   "name": "python2"
  },
  "language_info": {
   "codemirror_mode": {
    "name": "ipython",
    "version": 2
   },
   "file_extension": ".py",
   "mimetype": "text/x-python",
   "name": "python",
   "nbconvert_exporter": "python",
   "pygments_lexer": "ipython2",
   "version": "2.7.10"
  }
 },
 "nbformat": 4,
 "nbformat_minor": 2
}
