{
 "cells": [
  {
   "cell_type": "markdown",
   "metadata": {},
   "source": [
    "# Daily Portfolio Values"
   ]
  },
  {
   "cell_type": "markdown",
   "metadata": {},
   "source": [
    "Here are the steps to calculate the daily portfolio values:\n",
    "\n",
    "1. Create a dataframe of prices with columns for each stock, indexed by date\n",
    "2. Normalize the prices dataframe (prices / prices[0]) into a normalized dataframe. These represent cumulative returns starting from the start date.\n",
    "3. Multiply the normalized dataframe by the allocations for each stock into an allocations dataframe.\n",
    "4. Multipy the allocations dataframe by the start value (how much money you started with) to calculate the amount of cash allocated to each stock. Save this into a postions dataframe.\n",
    "5. Calculate the portfolio values each day by summing the positions across the `1` axis. Save this into a portfolio_value dataframe (or a series in your existing dataframe)"
   ]
  },
  {
   "cell_type": "code",
   "execution_count": 1,
   "metadata": {
    "collapsed": true
   },
   "outputs": [],
   "source": [
    "import pandas as pd\n",
    "from util import get_data\n",
    "from util import plot_data"
   ]
  },
  {
   "cell_type": "code",
   "execution_count": 4,
   "metadata": {},
   "outputs": [
    {
     "name": "stdout",
     "output_type": "stream",
     "text": [
      "               SPY     GLD    XOM    GOOG\n",
      "2012-01-03  126.29  155.92  84.40  665.41\n",
      "2012-01-04  126.49  156.71  84.42  668.28\n",
      "2012-01-05  126.82  157.78  84.16  659.01\n",
      "2012-01-06  126.50  157.20  83.53  650.02\n",
      "2012-01-09  126.80  156.50  83.91  622.46\n",
      "2012-01-10  127.90  158.64  84.12  623.14\n"
     ]
    }
   ],
   "source": [
    "dates = pd.date_range('2012-01-01', '2012-01-10')\n",
    "symbols = ['SPY', 'GLD', 'XOM', 'GOOG']\n",
    "df = get_data(symbols, dates)\n",
    "print df"
   ]
  },
  {
   "cell_type": "code",
   "execution_count": 7,
   "metadata": {},
   "outputs": [
    {
     "name": "stdout",
     "output_type": "stream",
     "text": [
      "                 SPY       GLD       XOM      GOOG\n",
      "2012-01-03  1.000000  1.000000  1.000000  1.000000\n",
      "2012-01-04  1.001584  1.005067  1.000237  1.004313\n",
      "2012-01-05  1.004197  1.011929  0.997156  0.990382\n",
      "2012-01-06  1.001663  1.008209  0.989692  0.976871\n",
      "2012-01-09  1.004038  1.003720  0.994194  0.935453\n",
      "2012-01-10  1.012748  1.017445  0.996682  0.936475\n"
     ]
    }
   ],
   "source": [
    "prices_df = df / df.iloc[0]\n",
    "print prices_df"
   ]
  },
  {
   "cell_type": "code",
   "execution_count": 9,
   "metadata": {},
   "outputs": [
    {
     "name": "stdout",
     "output_type": "stream",
     "text": [
      "                 SPY       GLD       XOM      GOOG\n",
      "2012-01-03  0.400000  0.400000  0.100000  0.100000\n",
      "2012-01-04  0.400633  0.402027  0.100024  0.100431\n",
      "2012-01-05  0.401679  0.404772  0.099716  0.099038\n",
      "2012-01-06  0.400665  0.403284  0.098969  0.097687\n",
      "2012-01-09  0.401615  0.401488  0.099419  0.093545\n",
      "2012-01-10  0.405099  0.406978  0.099668  0.093648\n"
     ]
    }
   ],
   "source": [
    "allocations_df = prices_df * [0.4, 0.4, 0.1, 0.1]\n",
    "print allocations_df"
   ]
  },
  {
   "cell_type": "code",
   "execution_count": 11,
   "metadata": {},
   "outputs": [
    {
     "name": "stdout",
     "output_type": "stream",
     "text": [
      "                      SPY            GLD            XOM           GOOG\n",
      "2012-01-03  400000.000000  400000.000000  100000.000000  100000.000000\n",
      "2012-01-04  400633.462665  402026.680349  100023.696682  100431.313025\n",
      "2012-01-05  401678.676063  404771.677783   99715.639810   99038.186982\n",
      "2012-01-06  400665.135799  403283.735249   98969.194313   97687.140259\n",
      "2012-01-09  401615.329797  401487.942535   99419.431280   93545.332953\n",
      "2012-01-10  405099.374456  406977.937404   99668.246445   93647.525586\n"
     ]
    }
   ],
   "source": [
    "start_value = 1000000\n",
    "positions_df = allocations_df * start_value\n",
    "print positions_df"
   ]
  },
  {
   "cell_type": "code",
   "execution_count": 14,
   "metadata": {},
   "outputs": [
    {
     "name": "stdout",
     "output_type": "stream",
     "text": [
      "2012-01-03    1000000.000000\n",
      "2012-01-04    1003115.152722\n",
      "2012-01-05    1005204.180639\n",
      "2012-01-06    1000605.205620\n",
      "2012-01-09     996068.036563\n",
      "2012-01-10    1005393.083891\n",
      "dtype: float64\n"
     ]
    }
   ],
   "source": [
    "portfolio_value_series = positions_df.sum(axis=1)\n",
    "print portfolio_value_series"
   ]
  },
  {
   "cell_type": "markdown",
   "metadata": {},
   "source": [
    "# Portfolio Statistics"
   ]
  },
  {
   "cell_type": "code",
   "execution_count": 16,
   "metadata": {},
   "outputs": [
    {
     "data": {
      "text/html": [
       "<div>\n",
       "<table border=\"1\" class=\"dataframe\">\n",
       "  <thead>\n",
       "    <tr style=\"text-align: right;\">\n",
       "      <th></th>\n",
       "      <th>portfolio_value</th>\n",
       "    </tr>\n",
       "  </thead>\n",
       "  <tbody>\n",
       "    <tr>\n",
       "      <th>2012-01-03</th>\n",
       "      <td>0.000000</td>\n",
       "    </tr>\n",
       "    <tr>\n",
       "      <th>2012-01-04</th>\n",
       "      <td>0.003115</td>\n",
       "    </tr>\n",
       "    <tr>\n",
       "      <th>2012-01-05</th>\n",
       "      <td>0.002083</td>\n",
       "    </tr>\n",
       "    <tr>\n",
       "      <th>2012-01-06</th>\n",
       "      <td>-0.004575</td>\n",
       "    </tr>\n",
       "    <tr>\n",
       "      <th>2012-01-09</th>\n",
       "      <td>-0.004534</td>\n",
       "    </tr>\n",
       "    <tr>\n",
       "      <th>2012-01-10</th>\n",
       "      <td>0.009362</td>\n",
       "    </tr>\n",
       "  </tbody>\n",
       "</table>\n",
       "</div>"
      ],
      "text/plain": [
       "            portfolio_value\n",
       "2012-01-03         0.000000\n",
       "2012-01-04         0.003115\n",
       "2012-01-05         0.002083\n",
       "2012-01-06        -0.004575\n",
       "2012-01-09        -0.004534\n",
       "2012-01-10         0.009362"
      ]
     },
     "execution_count": 16,
     "metadata": {},
     "output_type": "execute_result"
    }
   ],
   "source": [
    "def compute_daily_returns(df):\n",
    "    daily_returns = (df / df.shift(1)) - 1\n",
    "    daily_returns.iloc[0, :] = 0 # Replace NaN with 0\n",
    "    return daily_returns\n",
    "\n",
    "df2 = pd.DataFrame(portfolio_value_series, columns=['portfolio_value'])\n",
    "compute_daily_returns(df2)"
   ]
  },
  {
   "cell_type": "markdown",
   "metadata": {},
   "source": [
    "Note: I'm not sure the above computation for computing daily returns is correct."
   ]
  },
  {
   "cell_type": "markdown",
   "metadata": {},
   "source": [
    "# Computing Sharpe Ratio"
   ]
  },
  {
   "cell_type": "markdown",
   "metadata": {},
   "source": [
    "`sharpe = mean(daily returns - daily risk free rate of return) / std(daily returns - daily risk free rate of return)`"
   ]
  },
  {
   "cell_type": "markdown",
   "metadata": {},
   "source": [
    "What is the risk free rate of return? Some possible sources:\n",
    "- LIBOR (London Inter-Bank Offered Rate)\n",
    "- 3 month T-Bill\n",
    "- 0%"
   ]
  },
  {
   "cell_type": "markdown",
   "metadata": {},
   "source": [
    "Shortcut for calculating the risk-free rate:"
   ]
  },
  {
   "cell_type": "markdown",
   "metadata": {},
   "source": [
    "`s = mean(daily returns - daily rf) / std(daily returns)`"
   ]
  },
  {
   "cell_type": "markdown",
   "metadata": {},
   "source": [
    "# Quiz: What Is The Sharpe Ratio?"
   ]
  },
  {
   "cell_type": "markdown",
   "metadata": {},
   "source": [
    "Given:\n",
    "- 60 days of data\n",
    "- Averate Daily Return = 0.001\n",
    "- Daily Risk Free Rate = 0.0002\n",
    "- Standard Deviation Return = 0.001"
   ]
  },
  {
   "cell_type": "markdown",
   "metadata": {},
   "source": [
    "`k * mean(_daily_rets_ - _daily_rf_) / std(_daily_rets_)`"
   ]
  },
  {
   "cell_type": "markdown",
   "metadata": {},
   "source": [
    "`k = sqrt(252)`"
   ]
  },
  {
   "cell_type": "markdown",
   "metadata": {},
   "source": [
    "```\n",
    ">>> math.sqrt(252) * (0.001 - 0.0002) / 0.001\n",
    "12.699606293110037\n",
    "```"
   ]
  }
 ],
 "metadata": {
  "kernelspec": {
   "display_name": "Python 2",
   "language": "python",
   "name": "python2"
  },
  "language_info": {
   "codemirror_mode": {
    "name": "ipython",
    "version": 2
   },
   "file_extension": ".py",
   "mimetype": "text/x-python",
   "name": "python",
   "nbconvert_exporter": "python",
   "pygments_lexer": "ipython2",
   "version": "2.7.10"
  }
 },
 "nbformat": 4,
 "nbformat_minor": 2
}
